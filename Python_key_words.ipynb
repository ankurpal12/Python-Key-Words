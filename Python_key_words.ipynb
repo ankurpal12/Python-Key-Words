{
 "cells": [
  {
   "cell_type": "markdown",
   "metadata": {},
   "source": [
    "1. Explain the significance of Python keywords and provide examples of five keywords."
   ]
  },
  {
   "cell_type": "markdown",
   "metadata": {},
   "source": [
    "Ans. \n",
    "\n",
    "Python keywords are reserved words which have predefined meanings. It control the flow and structure of programs.\n",
    "\n",
    "for e.g :-\n",
    " \n",
    "if,\n",
    "for,\n",
    "return,\n",
    "class,\n",
    "def,"
   ]
  },
  {
   "cell_type": "markdown",
   "metadata": {},
   "source": []
  },
  {
   "cell_type": "markdown",
   "metadata": {},
   "source": [
    "2. Describe the rules for defining identifiers in Python and provide an example."
   ]
  },
  {
   "cell_type": "markdown",
   "metadata": {},
   "source": [
    "Ans.\n",
    "Identifiers are the names used to identify variables, functions, classes, etc.\n",
    "\n",
    "Rules are as follows:\n",
    "\t1.\tMust begin with a letter (A-Z or a-z) or an underscore (_)\n",
    "\t2.\tCan contain letters, digits (0–9), and underscores\n",
    "\t3.\tCannot begin with a digit\n",
    "\t4.\tCannot use Python keywords\n",
    "\t5.\tit is case-sensitive (Age and age are different)"
   ]
  },
  {
   "cell_type": "code",
   "execution_count": null,
   "metadata": {},
   "outputs": [],
   "source": [
    "name = \"Alice\"        # valid\n",
    "_name1 = \"Bob\"        # valid\n",
    "1st_name = \"Tom\"      # not valid: starts with a digit"
   ]
  },
  {
   "cell_type": "markdown",
   "metadata": {},
   "source": [
    "3. What are comments in Python, and why are they useful? Provide an example."
   ]
  },
  {
   "cell_type": "markdown",
   "metadata": {},
   "source": [
    "Ans. \n",
    "Comments are lines in the code that are not executed by Python. They are used to:\n",
    "\t•\tExplain what the code does\n",
    "\t•\tMake the code easier to understand\n",
    "\t•\tTemporarily disable code\n"
   ]
  },
  {
   "cell_type": "code",
   "execution_count": 1,
   "metadata": {},
   "outputs": [
    {
     "name": "stdout",
     "output_type": "stream",
     "text": [
      "Hello world\n"
     ]
    }
   ],
   "source": [
    "print(\"Hello world\") # This statment print hello world\n",
    "# this is example of comment."
   ]
  },
  {
   "cell_type": "markdown",
   "metadata": {},
   "source": [
    "4. Why is proper indentation important in Python?"
   ]
  },
  {
   "cell_type": "markdown",
   "metadata": {},
   "source": [
    "Ans. \n",
    "1. Indentation in Python is not just for readability. it defines the structure and flow of the code.\n",
    "2. Python uses indentation to mark blocks of code."
   ]
  },
  {
   "cell_type": "markdown",
   "metadata": {},
   "source": [
    "5. What happens if indentation is incorrect in Python?"
   ]
  },
  {
   "cell_type": "markdown",
   "metadata": {},
   "source": [
    "Ans.\n",
    "Python will raise an error. Program won't run until error is not fixed.\n",
    "\n",
    "for e.g Indentation Error, Syntax Error.\n"
   ]
  },
  {
   "cell_type": "markdown",
   "metadata": {},
   "source": [
    "6. Differentiate between expression and statement in Python with examples."
   ]
  },
  {
   "cell_type": "markdown",
   "metadata": {},
   "source": [
    "Ans.\n",
    "\n",
    "EXPRESSION :- \n",
    "An expression is any piece of code that produces or returns a value. it is evaluated.\n",
    "1. It can be assigned to a variable.\n",
    "2. It can be used inside other statements.\n",
    "\n",
    "STATEMENT :- \n",
    "A statement is a complete line of code that performs an action. it may not return a value.\n",
    "1. It may contain one or more expressions.\n",
    "2. It is executed, not just evaluated.\n"
   ]
  },
  {
   "cell_type": "code",
   "execution_count": 2,
   "metadata": {},
   "outputs": [
    {
     "data": {
      "text/plain": [
       "4"
      ]
     },
     "execution_count": 2,
     "metadata": {},
     "output_type": "execute_result"
    }
   ],
   "source": [
    "a = 1  # Assignment statment\n",
    "b = 3  # Assignment Statment\n",
    "c = a + b  # Expression which returns value 4. assigned to c.\n",
    "c"
   ]
  },
  {
   "cell_type": "markdown",
   "metadata": {},
   "source": [
    "\n"
   ]
  },
  {
   "cell_type": "code",
   "execution_count": null,
   "metadata": {},
   "outputs": [],
   "source": []
  }
 ],
 "metadata": {
  "kernelspec": {
   "display_name": "Python 3",
   "language": "python",
   "name": "python3"
  },
  "language_info": {
   "codemirror_mode": {
    "name": "ipython",
    "version": 3
   },
   "file_extension": ".py",
   "mimetype": "text/x-python",
   "name": "python",
   "nbconvert_exporter": "python",
   "pygments_lexer": "ipython3",
   "version": "3.13.1"
  }
 },
 "nbformat": 4,
 "nbformat_minor": 2
}
